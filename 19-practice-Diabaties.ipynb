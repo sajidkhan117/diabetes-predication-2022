{
 "cells": [
  {
   "cell_type": "code",
   "execution_count": 2,
   "id": "fe5df18f",
   "metadata": {},
   "outputs": [
    {
     "data": {
      "text/html": [
       "<div>\n",
       "<style scoped>\n",
       "    .dataframe tbody tr th:only-of-type {\n",
       "        vertical-align: middle;\n",
       "    }\n",
       "\n",
       "    .dataframe tbody tr th {\n",
       "        vertical-align: top;\n",
       "    }\n",
       "\n",
       "    .dataframe thead th {\n",
       "        text-align: right;\n",
       "    }\n",
       "</style>\n",
       "<table border=\"1\" class=\"dataframe\">\n",
       "  <thead>\n",
       "    <tr style=\"text-align: right;\">\n",
       "      <th></th>\n",
       "      <th>Pregnancies</th>\n",
       "      <th>Glucose</th>\n",
       "      <th>BloodPressure</th>\n",
       "      <th>SkinThickness</th>\n",
       "      <th>Insulin</th>\n",
       "      <th>BMI</th>\n",
       "      <th>DiabetesPedigreeFunction</th>\n",
       "      <th>Age</th>\n",
       "      <th>Outcome</th>\n",
       "    </tr>\n",
       "  </thead>\n",
       "  <tbody>\n",
       "    <tr>\n",
       "      <th>0</th>\n",
       "      <td>6</td>\n",
       "      <td>148</td>\n",
       "      <td>72</td>\n",
       "      <td>35</td>\n",
       "      <td>0</td>\n",
       "      <td>33.6</td>\n",
       "      <td>0.627</td>\n",
       "      <td>50</td>\n",
       "      <td>1</td>\n",
       "    </tr>\n",
       "    <tr>\n",
       "      <th>1</th>\n",
       "      <td>1</td>\n",
       "      <td>85</td>\n",
       "      <td>66</td>\n",
       "      <td>29</td>\n",
       "      <td>0</td>\n",
       "      <td>26.6</td>\n",
       "      <td>0.351</td>\n",
       "      <td>31</td>\n",
       "      <td>0</td>\n",
       "    </tr>\n",
       "    <tr>\n",
       "      <th>2</th>\n",
       "      <td>8</td>\n",
       "      <td>183</td>\n",
       "      <td>64</td>\n",
       "      <td>0</td>\n",
       "      <td>0</td>\n",
       "      <td>23.3</td>\n",
       "      <td>0.672</td>\n",
       "      <td>32</td>\n",
       "      <td>1</td>\n",
       "    </tr>\n",
       "    <tr>\n",
       "      <th>3</th>\n",
       "      <td>1</td>\n",
       "      <td>89</td>\n",
       "      <td>66</td>\n",
       "      <td>23</td>\n",
       "      <td>94</td>\n",
       "      <td>28.1</td>\n",
       "      <td>0.167</td>\n",
       "      <td>21</td>\n",
       "      <td>0</td>\n",
       "    </tr>\n",
       "    <tr>\n",
       "      <th>4</th>\n",
       "      <td>0</td>\n",
       "      <td>137</td>\n",
       "      <td>40</td>\n",
       "      <td>35</td>\n",
       "      <td>168</td>\n",
       "      <td>43.1</td>\n",
       "      <td>2.288</td>\n",
       "      <td>33</td>\n",
       "      <td>1</td>\n",
       "    </tr>\n",
       "  </tbody>\n",
       "</table>\n",
       "</div>"
      ],
      "text/plain": [
       "   Pregnancies  Glucose  BloodPressure  SkinThickness  Insulin   BMI  \\\n",
       "0            6      148             72             35        0  33.6   \n",
       "1            1       85             66             29        0  26.6   \n",
       "2            8      183             64              0        0  23.3   \n",
       "3            1       89             66             23       94  28.1   \n",
       "4            0      137             40             35      168  43.1   \n",
       "\n",
       "   DiabetesPedigreeFunction  Age  Outcome  \n",
       "0                     0.627   50        1  \n",
       "1                     0.351   31        0  \n",
       "2                     0.672   32        1  \n",
       "3                     0.167   21        0  \n",
       "4                     2.288   33        1  "
      ]
     },
     "execution_count": 2,
     "metadata": {},
     "output_type": "execute_result"
    }
   ],
   "source": [
    "#  importing headers and database\n",
    "%matplotlib inline\n",
    "import pandas as pd\n",
    "import numpy as np\n",
    "import matplotlib.pyplot as plt\n",
    "import seaborn as sns\n",
    "accuracy={}\n",
    "diabetes = pd.read_csv('diabetes.csv')\n",
    "diabetes.head()\n"
   ]
  },
  {
   "cell_type": "code",
   "execution_count": null,
   "id": "1409da1a",
   "metadata": {},
   "outputs": [],
   "source": [
    "#  Phase 1 — Data Exploration\n",
    "\n",
    "#  This step is necessary to familiarize with the data, to gain some understanding about the \n",
    "#  potential features and to see if data cleaning is needed."
   ]
  },
  {
   "cell_type": "code",
   "execution_count": 3,
   "id": "4ba038f2",
   "metadata": {},
   "outputs": [
    {
     "name": "stdout",
     "output_type": "stream",
     "text": [
      "Diabetes data set dimensions : (768, 9)\n"
     ]
    }
   ],
   "source": [
    "print(\"Diabetes data set dimensions : {}\".format(diabetes.shape))"
   ]
  },
  {
   "cell_type": "code",
   "execution_count": 4,
   "id": "abc7bb3f",
   "metadata": {},
   "outputs": [
    {
     "name": "stdout",
     "output_type": "stream",
     "text": [
      "<class 'pandas.core.frame.DataFrame'>\n",
      "RangeIndex: 768 entries, 0 to 767\n",
      "Data columns (total 9 columns):\n",
      " #   Column                    Non-Null Count  Dtype  \n",
      "---  ------                    --------------  -----  \n",
      " 0   Pregnancies               768 non-null    int64  \n",
      " 1   Glucose                   768 non-null    int64  \n",
      " 2   BloodPressure             768 non-null    int64  \n",
      " 3   SkinThickness             768 non-null    int64  \n",
      " 4   Insulin                   768 non-null    int64  \n",
      " 5   BMI                       768 non-null    float64\n",
      " 6   DiabetesPedigreeFunction  768 non-null    float64\n",
      " 7   Age                       768 non-null    int64  \n",
      " 8   Outcome                   768 non-null    int64  \n",
      "dtypes: float64(2), int64(7)\n",
      "memory usage: 54.1 KB\n"
     ]
    }
   ],
   "source": [
    "diabetes.info()"
   ]
  },
  {
   "cell_type": "code",
   "execution_count": 5,
   "id": "9f69cc59",
   "metadata": {},
   "outputs": [
    {
     "name": "stdout",
     "output_type": "stream",
     "text": [
      "Outcome\n",
      "0    500\n",
      "1    268\n",
      "dtype: int64\n"
     ]
    },
    {
     "name": "stderr",
     "output_type": "stream",
     "text": [
      "C:\\Users\\Admin\\anaconda3\\lib\\site-packages\\seaborn\\_decorators.py:36: FutureWarning: Pass the following variable as a keyword arg: x. From version 0.12, the only valid positional argument will be `data`, and passing other arguments without an explicit keyword will result in an error or misinterpretation.\n",
      "  warnings.warn(\n"
     ]
    },
    {
     "data": {
      "text/plain": [
       "<AxesSubplot:xlabel='Outcome', ylabel='count'>"
      ]
     },
     "execution_count": 5,
     "metadata": {},
     "output_type": "execute_result"
    },
    {
     "data": {
      "image/png": "[encoded data removed]",
      "text/plain": [
       "<Figure size 432x288 with 1 Axes>"
      ]
     },
     "metadata": {
      "needs_background": "light"
     },
     "output_type": "display_data"
    }
   ],
   "source": [
    "#Count of Outcome as 0 and 1 before data cleansing\n",
    "\n",
    "import seaborn as sns\n",
    "print(diabetes.groupby('Outcome').size())\n",
    "sns.countplot(diabetes['Outcome'],label=\"Count\")"
   ]
  },
  {
   "cell_type": "code",
   "execution_count": 6,
   "id": "9554fa54",
   "metadata": {},
   "outputs": [
    {
     "data": {
      "image/png": "[encoded data removed]",
      "text/plain": [
       "<Figure size 1080x720 with 9 Axes>"
      ]
     },
     "metadata": {
      "needs_background": "light"
     },
     "output_type": "display_data"
    }
   ],
   "source": [
    "#Distribution of individual features\n",
    "\n",
    "diabetes.hist(bins=30, figsize=(15,10))\n",
    "plt.show()"
   ]
  },
  {
   "cell_type": "code",
   "execution_count": null,
   "id": "a366de66",
   "metadata": {},
   "outputs": [],
   "source": [
    "#  Phase 2— Data Cleaning\n",
    "\n",
    "#  Next phase of the machine learning work flow is the data cleaning. Considered to be one of the crucial steps of the work\n",
    "#  flow, because it can make or break the model. There is a saying in machine learning “Better data beats fancier algorithms”,\n",
    "#  which suggests better data gives you better resulting models.\n",
    "\n",
    "#  There are several factors to consider in the data cleaning process.\n",
    "\n",
    "#  1.Duplicate or irrelevant observations.\n",
    "#  2.Bad labeling of data, same category occurring multiple times.\n",
    "#  3.Missing or null data points.\n",
    "#  4.Unexpected outliers."
   ]
  },
  {
   "cell_type": "code",
   "execution_count": 7,
   "id": "bd6c9691",
   "metadata": {},
   "outputs": [
    {
     "data": {
      "text/plain": [
       "Pregnancies                 0\n",
       "Glucose                     0\n",
       "BloodPressure               0\n",
       "SkinThickness               0\n",
       "Insulin                     0\n",
       "BMI                         0\n",
       "DiabetesPedigreeFunction    0\n",
       "Age                         0\n",
       "Outcome                     0\n",
       "dtype: int64"
      ]
     },
     "execution_count": 7,
     "metadata": {},
     "output_type": "execute_result"
    }
   ],
   "source": [
    "diabetes.isnull().sum()\n",
    "diabetes.isna().sum()"
   ]
  },
  {
   "cell_type": "code",
   "execution_count": 8,
   "id": "0729aae4",
   "metadata": {},
   "outputs": [
    {
     "name": "stdout",
     "output_type": "stream",
     "text": [
      "Total :  35\n",
      "Outcome\n",
      "0    19\n",
      "1    16\n",
      "Name: BMI, dtype: int64\n"
     ]
    }
   ],
   "source": [
    "#  Blood pressure \n",
    "\n",
    "print(\"Total : \", diabetes[diabetes.BloodPressure == 0].shape[0])\n",
    "print(diabetes[diabetes.BloodPressure == 0].groupby('Outcome')['BMI'].count())\n"
   ]
  },
  {
   "cell_type": "code",
   "execution_count": 9,
   "id": "1bc8dc68",
   "metadata": {},
   "outputs": [
    {
     "name": "stdout",
     "output_type": "stream",
     "text": [
      "Total :  5\n",
      "Outcome\n",
      "0    3\n",
      "1    2\n",
      "Name: Age, dtype: int64\n"
     ]
    }
   ],
   "source": [
    "#  Plasma glucose levels\n",
    "\n",
    "print(\"Total : \", diabetes[diabetes.Glucose == 0].shape[0])\n",
    "print(diabetes[diabetes.Glucose == 0].groupby('Outcome')['Age'].count())"
   ]
  },
  {
   "cell_type": "code",
   "execution_count": 10,
   "id": "a4305a69",
   "metadata": {},
   "outputs": [
    {
     "name": "stdout",
     "output_type": "stream",
     "text": [
      "Total :  236\n",
      "Outcome\n",
      "0    147\n",
      "1     89\n",
      "Name: Age, dtype: int64\n"
     ]
    }
   ],
   "source": [
    "#  Skin Fold Thickness\n",
    "\n",
    "print(\"Total : \", diabetes[diabetes.SkinThickness <= 10].shape[0])\n",
    "print(diabetes[diabetes.SkinThickness <= 10].groupby('Outcome')['Age'].count())"
   ]
  },
  {
   "cell_type": "code",
   "execution_count": 11,
   "id": "fe1298bc",
   "metadata": {},
   "outputs": [
    {
     "name": "stdout",
     "output_type": "stream",
     "text": [
      "Total :  11\n",
      "Outcome\n",
      "0    9\n",
      "1    2\n",
      "Name: Age, dtype: int64\n"
     ]
    }
   ],
   "source": [
    "#  BMI\n",
    "\n",
    "print(\"Total : \", diabetes[diabetes.BMI == 0].shape[0])\n",
    "print(diabetes[diabetes.BMI == 0].groupby('Outcome')['Age'].count())"
   ]
  },
  {
   "cell_type": "code",
   "execution_count": 12,
   "id": "c9c2054d",
   "metadata": {},
   "outputs": [
    {
     "name": "stdout",
     "output_type": "stream",
     "text": [
      "Total :  374\n",
      "Outcome\n",
      "0    236\n",
      "1    138\n",
      "Name: Age, dtype: int64\n"
     ]
    }
   ],
   "source": [
    "#  Insulin\n",
    "\n",
    "print(\"Total : \", diabetes[diabetes.Insulin == 0].shape[0])\n",
    "print(diabetes[diabetes.Insulin == 0].groupby('Outcome')['Age'].count())"
   ]
  },
  {
   "cell_type": "code",
   "execution_count": null,
   "id": "be132e96",
   "metadata": {},
   "outputs": [],
   "source": [
    "#  ways to handle invalid data values (add documentation)"
   ]
  },
  {
   "cell_type": "code",
   "execution_count": 13,
   "id": "3c5d318b",
   "metadata": {},
   "outputs": [
    {
     "name": "stdout",
     "output_type": "stream",
     "text": [
      "(724, 9)\n"
     ]
    },
    {
     "data": {
      "text/plain": [
       "(724, 9)"
      ]
     },
     "execution_count": 13,
     "metadata": {},
     "output_type": "execute_result"
    }
   ],
   "source": [
    "#  We will remove the rows which the “BloodPressure”, “BMI” and “Glucose” are zero.\n",
    "\n",
    "diabetes_mod = diabetes[(diabetes.BloodPressure != 0) & (diabetes.BMI != 0) & (diabetes.Glucose != 0)]\n",
    "print(diabetes_mod.shape)\n",
    "(724, 9)"
   ]
  },
  {
   "cell_type": "code",
   "execution_count": null,
   "id": "d628e605",
   "metadata": {},
   "outputs": [],
   "source": [
    "#  Visualization on cleaned dataset before data cleansing"
   ]
  },
  {
   "cell_type": "code",
   "execution_count": 14,
   "id": "1f1c8507",
   "metadata": {},
   "outputs": [
    {
     "name": "stdout",
     "output_type": "stream",
     "text": [
      "Outcome\n",
      "0    475\n",
      "1    249\n",
      "dtype: int64\n"
     ]
    },
    {
     "name": "stderr",
     "output_type": "stream",
     "text": [
      "C:\\Users\\Admin\\anaconda3\\lib\\site-packages\\seaborn\\_decorators.py:36: FutureWarning: Pass the following variable as a keyword arg: x. From version 0.12, the only valid positional argument will be `data`, and passing other arguments without an explicit keyword will result in an error or misinterpretation.\n",
      "  warnings.warn(\n"
     ]
    },
    {
     "data": {
      "text/plain": [
       "<AxesSubplot:xlabel='Outcome', ylabel='count'>"
      ]
     },
     "execution_count": 14,
     "metadata": {},
     "output_type": "execute_result"
    },
    {
     "data": {
      "image/png": "[encoded data removed]",
      "text/plain": [
       "<Figure size 432x288 with 1 Axes>"
      ]
     },
     "metadata": {
      "needs_background": "light"
     },
     "output_type": "display_data"
    }
   ],
   "source": [
    "print(diabetes_mod.groupby('Outcome').size())\n",
    "sns.countplot(diabetes_mod['Outcome'],label=\"Count\")"
   ]
  },
  {
   "cell_type": "code",
   "execution_count": 15,
   "id": "57ec96aa",
   "metadata": {},
   "outputs": [
    {
     "data": {
      "image/png": "[encoded data removed]",
      "text/plain": [
       "<Figure size 1080x720 with 9 Axes>"
      ]
     },
     "metadata": {
      "needs_background": "light"
     },
     "output_type": "display_data"
    }
   ],
   "source": [
    "#Distribution of individual features after data cleansing\n",
    "\n",
    "diabetes_mod.hist(bins=30, figsize=(15,10))\n",
    "plt.show()"
   ]
  },
  {
   "cell_type": "code",
   "execution_count": 16,
   "id": "318157ed",
   "metadata": {},
   "outputs": [],
   "source": [
    "#  Phase 3— Models Analysis\n",
    "\n",
    "#  first we perform KNN, Naive Bayes, Random Forest and Neural Network"
   ]
  },
  {
   "cell_type": "code",
   "execution_count": 17,
   "id": "0a4e18b1",
   "metadata": {},
   "outputs": [],
   "source": [
    "# splitting data into train data and test data\n",
    "\n",
    "from sklearn.model_selection import train_test_split\n",
    "\n",
    "X_train, X_test, y_train, y_test = train_test_split(diabetes_mod.loc[:, diabetes_mod.columns != 'Outcome'], diabetes_mod['Outcome'], stratify=diabetes_mod['Outcome'], random_state=56)\n"
   ]
  },
  {
   "cell_type": "code",
   "execution_count": null,
   "id": "3302f397",
   "metadata": {},
   "outputs": [],
   "source": [
    "#KNN algorithm Implementation"
   ]
  },
  {
   "cell_type": "code",
   "execution_count": 18,
   "id": "6ae73be0",
   "metadata": {},
   "outputs": [
    {
     "data": {
      "image/png": "[encoded data removed]",
      "text/plain": [
       "<Figure size 432x288 with 1 Axes>"
      ]
     },
     "metadata": {
      "needs_background": "light"
     },
     "output_type": "display_data"
    }
   ],
   "source": [
    "#  running KNN for 0 to 40 nodes to check which gives maximum accuracy\n",
    "\n",
    "from sklearn.neighbors import KNeighborsClassifier\n",
    "\n",
    "training_accuracy = []\n",
    "test_accuracy = []\n",
    "\n",
    "# try n_neighbors from 1 to 40\n",
    "neighbors_settings = range(1, 40)\n",
    "for n_neighbors in neighbors_settings:\n",
    "    # build the model\n",
    "    knn = KNeighborsClassifier(n_neighbors=n_neighbors)\n",
    "    knn.fit(X_train, y_train)\n",
    "    # record training set accuracy\n",
    "    training_accuracy.append(knn.score(X_train, y_train))\n",
    "    # record test set accuracy\n",
    "    test_accuracy.append(knn.score(X_test, y_test))\n",
    "plt.plot(neighbors_settings, training_accuracy, label=\"training accuracy\")\n",
    "plt.plot(neighbors_settings, test_accuracy, label=\"test accuracy\")\n",
    "plt.ylabel(\"Accuracy\")\n",
    "plt.xlabel(\"n_neighbors\")\n",
    "plt.legend()\n",
    "plt.savefig('knn_compare_model')"
   ]
  },
  {
   "cell_type": "code",
   "execution_count": 19,
   "id": "7b92a92c",
   "metadata": {},
   "outputs": [
    {
     "name": "stdout",
     "output_type": "stream",
     "text": [
      "Accuracy of K-NN classifier on training set: 0.76\n",
      "Accuracy of K-NN classifier on test set: 0.75\n"
     ]
    }
   ],
   "source": [
    "#  with the previous results we compute that the model gives the best results at around n=24\n",
    "#  hence we proceed with n=24\n",
    "#  n=number of neighbours\n",
    "\n",
    "knn = KNeighborsClassifier(n_neighbors=24)\n",
    "knn.fit(X_train, y_train)\n",
    "print('Accuracy of K-NN classifier on training set: {:.2f}'.format(knn.score(X_train, y_train)))\n",
    "print('Accuracy of K-NN classifier on test set: {:.2f}'.format(knn.score(X_test, y_test)))\n",
    "\n",
    "accuracy.update({'K-NN':knn.score(X_test, y_test)})"
   ]
  },
  {
   "cell_type": "code",
   "execution_count": null,
   "id": "c96b5dfd",
   "metadata": {},
   "outputs": [],
   "source": [
    "#Naive Bayes Implementation"
   ]
  },
  {
   "cell_type": "code",
   "execution_count": null,
   "id": "e3737a63",
   "metadata": {},
   "outputs": [],
   "source": [
    "from sklearn.naive_bayes import GaussianNB\n",
    "\n",
    "nb=GaussianNB()\n",
    "nb.fit(X_train, y_train)\n",
    "print('Accuracy of naive bayes classifier on training set: {:.2f}'.format(nb.score(X_train, y_train)))\n",
    "print('Accuracy of naive bayes classifier on test set: {:.2f}'.format(nb.score(X_test, y_test)))\n",
    "\n",
    "accuracy.update({'naive bayes':nb.score(X_test, y_test)})\n"
   ]
  },
  {
   "cell_type": "code",
   "execution_count": null,
   "id": "7fce26c2",
   "metadata": {},
   "outputs": [],
   "source": [
    "#  Random Forest Algorithm Implementation"
   ]
  },
  {
   "cell_type": "code",
   "execution_count": 20,
   "id": "d52892d1",
   "metadata": {},
   "outputs": [
    {
     "name": "stdout",
     "output_type": "stream",
     "text": [
      "Accuracy of Random Forest on training set: 1.000\n",
      "Accuracy of Random Forest on test set: 0.746\n"
     ]
    }
   ],
   "source": [
    "from sklearn.ensemble import RandomForestClassifier\n",
    "rf = RandomForestClassifier(n_estimators=100, random_state=0)\n",
    "rf.fit(X_train, y_train)\n",
    "print(\"Accuracy of Random Forest on training set: {:.3f}\".format(rf.score(X_train, y_train)))\n",
    "print(\"Accuracy of Random Forest on test set: {:.3f}\".format(rf.score(X_test, y_test)))\n",
    "\n",
    "accuracy.update({'Random Forest':rf.score(X_test, y_test)})\n",
    "\n"
   ]
  },
  {
   "cell_type": "code",
   "execution_count": null,
   "id": "3af3872c",
   "metadata": {},
   "outputs": [],
   "source": [
    "#  we try limiting the max_features to see if we get better results"
   ]
  },
  {
   "cell_type": "code",
   "execution_count": 21,
   "id": "7bbf282b",
   "metadata": {},
   "outputs": [
    {
     "name": "stdout",
     "output_type": "stream",
     "text": [
      "Accuracy of modified Random Forest on training set: 0.803\n",
      "Accuracy of modified Random Forest on test set: 0.724\n"
     ]
    }
   ],
   "source": [
    "rf1 = RandomForestClassifier(max_depth=3, n_estimators=100, random_state=0)\n",
    "rf1.fit(X_train, y_train)\n",
    "print(\"Accuracy of modified Random Forest on training set: {:.3f}\".format(rf1.score(X_train, y_train)))\n",
    "print(\"Accuracy of modified Random Forest on test set: {:.3f}\".format(rf1.score(X_test, y_test)))"
   ]
  },
  {
   "cell_type": "code",
   "execution_count": null,
   "id": "b85cc8c6",
   "metadata": {},
   "outputs": [],
   "source": [
    "#  it does not give better results, hence the default parameters will be retained"
   ]
  },
  {
   "cell_type": "code",
   "execution_count": null,
   "id": "fbbc10dd",
   "metadata": {},
   "outputs": [],
   "source": [
    "#  Feature importance in Random Forest (to see which parameters from the database are used most)"
   ]
  },
  {
   "cell_type": "code",
   "execution_count": 25,
   "id": "49c03735",
   "metadata": {},
   "outputs": [
    {
     "data": {
      "text/plain": [
       "<Figure size 432x288 with 0 Axes>"
      ]
     },
     "metadata": {},
     "output_type": "display_data"
    }
   ],
   "source": [
    "def plot_feature_importances_diabetes(model):\n",
    "    plt.figure(figsize=(8,6))\n",
    "    n_features = 8\n",
    "    plt.barh(range(n_features), model.feature_importances_, align='center')\n",
    "    plt.yticks(np.arange(n_features), diabetes_mod.columns)\n",
    "    plt.xlabel(\"Feature importance\")\n",
    "    plt.ylabel(\"Feature\")\n",
    "    plt.ylim(-1, n_features)\n",
    "plt.savefig('feature_importance')\n"
   ]
  },
  {
   "cell_type": "code",
   "execution_count": null,
   "id": "634142f6",
   "metadata": {},
   "outputs": [],
   "source": [
    "#  SVM Implementation"
   ]
  },
  {
   "cell_type": "code",
   "execution_count": 26,
   "id": "3a859770",
   "metadata": {},
   "outputs": [
    {
     "name": "stdout",
     "output_type": "stream",
     "text": [
      "Accuracy of SVM on training set: 1.00\n",
      "Accuracy of SVM on test set: 0.66\n"
     ]
    }
   ],
   "source": [
    "from sklearn.svm import SVC\n",
    "svc = SVC(gamma='auto')\n",
    "svc.fit(X_train, y_train)\n",
    "print(\"Accuracy of SVM on training set: {:.2f}\".format(svc.score(X_train, y_train)))\n",
    "print(\"Accuracy of SVM on test set: {:.2f}\".format(svc.score(X_test, y_test)))\n",
    "\n"
   ]
  },
  {
   "cell_type": "code",
   "execution_count": null,
   "id": "0ce129d8",
   "metadata": {},
   "outputs": [],
   "source": [
    "#  The model overfits quite substantially, with a perfect score on the training set and only 65% accuracy on the test set.\n",
    "\n",
    "#  SVM requires all the features to vary on a similar scale. We will need to re-scale our data that all the features are \n",
    "#  approximately on the same scale:"
   ]
  },
  {
   "cell_type": "code",
   "execution_count": 27,
   "id": "30ee6fd4",
   "metadata": {},
   "outputs": [
    {
     "name": "stdout",
     "output_type": "stream",
     "text": [
      "Accuracy of modified SVM on training set: 0.78\n",
      "Accuracy of modified SVM on test set: 0.80\n"
     ]
    }
   ],
   "source": [
    "#  scaled data SVM\n",
    "from sklearn.preprocessing import MinMaxScaler\n",
    "scaler = MinMaxScaler()\n",
    "X_train_scaled = scaler.fit_transform(X_train.astype(float))\n",
    "X_test_scaled = scaler.fit_transform(X_test.astype(float))\n",
    "\n",
    "\n",
    "svc = SVC(gamma='auto')\n",
    "svc.fit(X_train_scaled, y_train)\n",
    "print(\"Accuracy of modified SVM on training set: {:.2f}\".format(svc.score(X_train_scaled, y_train)))\n",
    "print(\"Accuracy of modified SVM on test set: {:.2f}\".format(svc.score(X_test_scaled, y_test)))\n",
    "\n",
    "accuracy.update({'SVM':svc.score(X_test_scaled, y_test)})\n",
    "\n",
    "\n",
    "y_pred = svc.predict(X_train)\n",
    "\n",
    "\n",
    "#print(y_pred)\n"
   ]
  },
  {
   "cell_type": "code",
   "execution_count": null,
   "id": "19eb7522",
   "metadata": {},
   "outputs": [],
   "source": [
    "#  Scaling the data made a huge difference! Now we are actually underfitting, where training and test set performance \n",
    "#  are quite similar but less close to 100% accuracy. From here, we can try increasing either C or gamma to fit a more \n",
    "#  complex model."
   ]
  },
  {
   "cell_type": "code",
   "execution_count": 28,
   "id": "41644a44",
   "metadata": {},
   "outputs": [
    {
     "name": "stdout",
     "output_type": "stream",
     "text": [
      "Accuracy of modified SVM on training set: 0.805\n",
      "Accuracy of modified SVM on test set: 0.751\n"
     ]
    }
   ],
   "source": [
    "svc = SVC(C=1000,gamma='auto')\n",
    "svc.fit(X_train_scaled, y_train)\n",
    "print(\"Accuracy of modified SVM on training set: {:.3f}\".format(\n",
    "    svc.score(X_train_scaled, y_train)))\n",
    "print(\"Accuracy of modified SVM on test set: {:.3f}\".format(svc.score(X_test_scaled, y_test)))"
   ]
  },
  {
   "cell_type": "code",
   "execution_count": null,
   "id": "dbec408f",
   "metadata": {},
   "outputs": [],
   "source": [
    "#  Here, increasing C gave us worse reults hence we do not to underfit the data"
   ]
  },
  {
   "cell_type": "code",
   "execution_count": null,
   "id": "cfbbb6eb",
   "metadata": {},
   "outputs": [],
   "source": [
    "#  Gradient Boosting"
   ]
  },
  {
   "cell_type": "code",
   "execution_count": 29,
   "id": "efadc548",
   "metadata": {},
   "outputs": [
    {
     "name": "stdout",
     "output_type": "stream",
     "text": [
      "Accuracy of Gradient Boosting on training set: 0.941\n",
      "Accuracy of Gradient Boosting on test set: 0.785\n"
     ]
    }
   ],
   "source": [
    "from sklearn.ensemble import GradientBoostingClassifier\n",
    "gb = GradientBoostingClassifier(random_state=0)\n",
    "gb.fit(X_train, y_train)\n",
    "print(\"Accuracy of Gradient Boosting on training set: {:.3f}\".format(gb.score(X_train, y_train)))\n",
    "print(\"Accuracy of Gradient Boosting on test set: {:.3f}\".format(gb.score(X_test, y_test)))\n",
    "\n",
    "accuracy.update({'Gradient Boosting':gb.score(X_test, y_test)})"
   ]
  },
  {
   "cell_type": "code",
   "execution_count": 32,
   "id": "2114c434",
   "metadata": {},
   "outputs": [
    {
     "name": "stdout",
     "output_type": "stream",
     "text": [
      "Accuracy of various Algorithms:  {'K-NN': 0.7513812154696132, 'Random Forest': 0.7458563535911602, 'SVM': 0.7955801104972375, 'Gradient Boosting': 0.7845303867403315}\n"
     ]
    }
   ],
   "source": [
    "print('Accuracy of various Algorithms: ',accuracy)"
   ]
  },
  {
   "cell_type": "code",
   "execution_count": 33,
   "id": "071cd22a",
   "metadata": {},
   "outputs": [
    {
     "data": {
      "text/plain": [
       "<function matplotlib.pyplot.show(close=None, block=None)>"
      ]
     },
     "execution_count": 33,
     "metadata": {},
     "output_type": "execute_result"
    },
    {
     "data": {
      "image/png": "[encoded data removed]",
      "text/plain": [
       "<Figure size 432x288 with 1 Axes>"
      ]
     },
     "metadata": {
      "needs_background": "light"
     },
     "output_type": "display_data"
    }
   ],
   "source": [
    "plt.bar(range(len(accuracy)), list(accuracy.values()), align='center')\n",
    "plt.xticks(range(len(accuracy)), list(accuracy.keys()))\n",
    "plt.show"
   ]
  },
  {
   "cell_type": "code",
   "execution_count": null,
   "id": "3a124adc",
   "metadata": {},
   "outputs": [],
   "source": [
    "#  from the above analysis of models we realize that SVM gives us the best results"
   ]
  },
  {
   "cell_type": "code",
   "execution_count": null,
   "id": "06a63ff5",
   "metadata": {},
   "outputs": [],
   "source": [
    "#  Phase 4— Relation of various Features"
   ]
  },
  {
   "cell_type": "code",
   "execution_count": 34,
   "id": "39200a0b",
   "metadata": {},
   "outputs": [
    {
     "name": "stdout",
     "output_type": "stream",
     "text": [
      "\n"
     ]
    },
    {
     "data": {
      "image/png": "[encoded data removed]",
      "text/plain": [
       "<Figure size 432x288 with 2 Axes>"
      ]
     },
     "metadata": {
      "needs_background": "light"
     },
     "output_type": "display_data"
    }
   ],
   "source": [
    "print()\n",
    "corr = diabetes_mod.corr()\n",
    "fig = plt.figure()\n",
    "ax = fig.add_subplot(111)\n",
    "cax = ax.matshow(corr,cmap='coolwarm', vmin=-1, vmax=1)\n",
    "fig.colorbar(cax)\n",
    "ticks = np.arange(0,len(diabetes_mod.columns),1)\n",
    "ax.set_xticks(ticks)\n",
    "plt.xticks(rotation=90)\n",
    "ax.set_yticks(ticks)\n",
    "ax.set_xticklabels(diabetes_mod.columns)\n",
    "ax.set_yticklabels(diabetes_mod.columns)\n",
    "plt.show()"
   ]
  },
  {
   "cell_type": "code",
   "execution_count": 35,
   "id": "a11fa0e5",
   "metadata": {},
   "outputs": [],
   "source": [
    "#  from the above diagram we see that glucose level, BMI, Pregnancies, Age and Diabetes Pedigree Function have the maximum \n",
    "#  impact on the prediction."
   ]
  },
  {
   "cell_type": "code",
   "execution_count": null,
   "id": "2a72fa35",
   "metadata": {},
   "outputs": [],
   "source": [
    "#  Phase 5— testing different SVM kernel functions"
   ]
  },
  {
   "cell_type": "code",
   "execution_count": 36,
   "id": "414ba4ad",
   "metadata": {},
   "outputs": [
    {
     "name": "stdout",
     "output_type": "stream",
     "text": [
      "Polynomial kernel:\n",
      "Accuracy on training set: 0.66\n",
      "Accuracy on test set: 0.66\n",
      "\n",
      "Gaussian radial basis function:\n",
      "Accuracy on training set: 0.78\n",
      "Accuracy on test set: 0.80\n",
      "\n",
      "Sigmoid kernel:\n",
      "Accuracy on training set: 0.77\n",
      "Accuracy on test set: 0.75\n",
      "\n",
      "Linear kernel:\n",
      "Accuracy on training set: 0.78\n",
      "Accuracy on test set: 0.75\n"
     ]
    }
   ],
   "source": [
    "print('Polynomial kernel:')\n",
    "svc2 = SVC(kernel='poly', degree=3, gamma='auto')  \n",
    "\n",
    "svc2.fit(X_train_scaled, y_train)\n",
    "print(\"Accuracy on training set: {:.2f}\".format(svc2.score(X_train_scaled, y_train)))\n",
    "print(\"Accuracy on test set: {:.2f}\".format(svc2.score(X_test_scaled, y_test)))\n",
    "\n",
    "print('\\nGaussian radial basis function:')\n",
    "svc2 = SVC(kernel='rbf', gamma='auto')  \n",
    "\n",
    "svc2.fit(X_train_scaled, y_train)\n",
    "print(\"Accuracy on training set: {:.2f}\".format(svc2.score(X_train_scaled, y_train)))\n",
    "print(\"Accuracy on test set: {:.2f}\".format(svc2.score(X_test_scaled, y_test)))\n",
    "\n",
    "print('\\nSigmoid kernel:')\n",
    "svc2 = SVC(kernel='sigmoid', gamma='auto')  \n",
    "\n",
    "svc2.fit(X_train_scaled, y_train)\n",
    "print(\"Accuracy on training set: {:.2f}\".format(svc2.score(X_train_scaled, y_train)))\n",
    "print(\"Accuracy on test set: {:.2f}\".format(svc2.score(X_test_scaled, y_test)))\n",
    "\n",
    "print('\\nLinear kernel:')\n",
    "svc2 = SVC(kernel='linear', gamma='auto')  \n",
    "\n",
    "svc2.fit(X_train_scaled, y_train)\n",
    "print(\"Accuracy on training set: {:.2f}\".format(svc2.score(X_train_scaled, y_train)))\n",
    "print(\"Accuracy on test set: {:.2f}\".format(svc2.score(X_test_scaled, y_test)))"
   ]
  },
  {
   "cell_type": "code",
   "execution_count": null,
   "id": "45b54b21",
   "metadata": {},
   "outputs": [],
   "source": [
    "#  hence we conclude that Gaussian radial basis function gives us the best accuracy\n",
    "#  and we proceed with that model"
   ]
  },
  {
   "cell_type": "code",
   "execution_count": null,
   "id": "e87fe88e",
   "metadata": {},
   "outputs": [],
   "source": [
    "#  Phase 6— Actual Prediction\n"
   ]
  },
  {
   "cell_type": "code",
   "execution_count": 37,
   "id": "1c54fcda",
   "metadata": {},
   "outputs": [
    {
     "data": {
      "text/plain": [
       "SVC(gamma='auto')"
      ]
     },
     "execution_count": 37,
     "metadata": {},
     "output_type": "execute_result"
    }
   ],
   "source": [
    "scaler = MinMaxScaler()\n",
    "X_train_scaled = scaler.fit_transform(X_train.astype(float))\n",
    "X_test_scaled = scaler.fit_transform(X_test.astype(float))\n",
    "svc = SVC(gamma='auto')\n",
    "svc.fit(X_train_scaled, y_train)\n",
    "#print(\"Accuracy on training set: {:.2f}\".format(svc.score(X_train_scaled, y_train)))\n",
    "#print(\"Accuracy on test set: {:.2f}\".format(svc.score(X_test_scaled, y_test)))"
   ]
  },
  {
   "cell_type": "code",
   "execution_count": 38,
   "id": "638a41e0",
   "metadata": {},
   "outputs": [
    {
     "name": "stdout",
     "output_type": "stream",
     "text": [
      "Confusion Matrix:  \n",
      "\t\tActual values\n",
      "\t\t 1\t 0\n",
      "pred\t1\t 39 \t 14\n",
      "icted\t0\t 23 \t 105\n",
      "\n",
      "Accuracy:  0.7955801104972375\n",
      "Misclassification:  0.20441988950276246\n",
      "Sensitivity:  0.6290322580645161\n",
      "Specificity:  0.8823529411764706\n",
      "Precision:  0.7358490566037735\n",
      "Recall:  0.6290322580645161\n",
      "Fscore:  0.6782608695652174\n"
     ]
    }
   ],
   "source": [
    "y_pred = svc.predict(X_test_scaled)\n",
    "\n",
    "y_pred_list=list(y_pred)\n",
    "y_train_test=list(y_test)\n",
    "\n",
    "tp=0\n",
    "tn=0\n",
    "fp=0\n",
    "fn=0\n",
    "\n",
    "for x in range(0,len(y_pred)):\n",
    "    if y_pred_list[x]==1 and y_train_test[x]==1:\n",
    "        tp = tp + 1\n",
    "    if y_pred_list[x]==0 and y_train_test[x]==0:\n",
    "        tn = tn + 1\n",
    "    if y_pred_list[x]==1 and y_train_test[x]==0:\n",
    "        fp = fp + 1\n",
    "    if y_pred_list[x]==0 and y_train_test[x]==1:\n",
    "        fn = fn + 1\n",
    "\n",
    "print('Confusion Matrix:  ')\n",
    "print('\\t\\tActual values')\n",
    "print('\\t\\t 1\\t 0')\n",
    "print('pred\\t1\\t',tp,'\\t',fp)\n",
    "print('icted\\t0\\t',fn,'\\t',tn)\n",
    "\n",
    "acc=(tp+tn)/(tp+fp+tn+fn)\n",
    "print('\\nAccuracy: ',acc)\n",
    "print('Misclassification: ',1-acc)\n",
    "print('Sensitivity: ',tp/(tp+fn))\n",
    "print('Specificity: ',tn/(fp+tn))\n",
    "prec = tp/(tp+fp)\n",
    "print('Precision: ',prec)\n",
    "recall = tp/(tp+fn)\n",
    "print('Recall: ',recall)\n",
    "print('Fscore: ',2*prec*recall/(prec+recall))\n",
    "#print(list(X_train_scaled))"
   ]
  },
  {
   "cell_type": "code",
   "execution_count": 39,
   "id": "609cecef",
   "metadata": {},
   "outputs": [
    {
     "name": "stdout",
     "output_type": "stream",
     "text": [
      "Pregnancies: 2\n",
      "Glucose: 222\n",
      "Blood Pressure: 222\n",
      "Skin Thickness: 111\n",
      "Insulin: 333\n",
      "BMI: 33\n",
      "DPF: 33\n",
      "Age: 44\n",
      "\n",
      "Predicted Outcome is: \n",
      "Diabetes Predicted\n"
     ]
    }
   ],
   "source": [
    "p=int(input('Pregnancies: '))\n",
    "g=int(input('Glucose: '))\n",
    "bp=int(input('Blood Pressure: '))\n",
    "st=int(input('Skin Thickness: '))\n",
    "i=int(input('Insulin: '))\n",
    "bmi=float(input('BMI: '))\n",
    "dpf=float(input('DPF: '))\n",
    "a=int(input('Age: '))\n",
    "\n",
    "li=[p,g,bp,st,i,bmi,dpf,a]\n",
    "\n",
    "X_test_temp = X_test\n",
    "\n",
    "\n",
    "linp=np.asarray(li)\n",
    "\n",
    "X_test_temp = np.vstack([X_test_temp,linp])\n",
    "\n",
    "#print(X_test_temp)\n",
    "\n",
    "X_test_scaled_temp = scaler.fit_transform(X_test_temp.astype(float))\n",
    "\n",
    "\n",
    "y_pred_temp = svc.predict(X_test_scaled_temp)\n",
    "\n",
    "y_pred_list_temp=list(y_pred_temp)\n",
    "\n",
    "\n",
    "print('\\nPredicted Outcome is: ')\n",
    "\n",
    "if y_pred_list_temp[-1]==1:\n",
    "    print('Diabetes Predicted')\n",
    "else:\n",
    "    print('Diabetes Not Predicted')\n",
    "#print(y_pred_list_temp[-1])\n",
    "\n",
    "\n"
   ]
  },
  {
   "cell_type": "code",
   "execution_count": null,
   "id": "c5c49939",
   "metadata": {},
   "outputs": [],
   "source": []
  },
  {
   "cell_type": "code",
   "execution_count": null,
   "id": "b0bc51e6",
   "metadata": {},
   "outputs": [],
   "source": []
  },
  {
   "cell_type": "code",
   "execution_count": null,
   "id": "c4caf7f3",
   "metadata": {},
   "outputs": [],
   "source": []
  },
  {
   "cell_type": "code",
   "execution_count": null,
   "id": "d16ce835",
   "metadata": {},
   "outputs": [],
   "source": []
  },
  {
   "cell_type": "code",
   "execution_count": null,
   "id": "cf299c24",
   "metadata": {},
   "outputs": [],
   "source": []
  },
  {
   "cell_type": "code",
   "execution_count": null,
   "id": "88fdd56e",
   "metadata": {},
   "outputs": [],
   "source": []
  },
  {
   "cell_type": "code",
   "execution_count": null,
   "id": "8e2697a7",
   "metadata": {},
   "outputs": [],
   "source": []
  }
 ],
 "metadata": {
  "kernelspec": {
   "display_name": "Python 3",
   "language": "python",
   "name": "python3"
  },
  "language_info": {
   "codemirror_mode": {
    "name": "ipython",
    "version": 3
   },
   "file_extension": ".py",
   "mimetype": "text/x-python",
   "name": "python",
   "nbconvert_exporter": "python",
   "pygments_lexer": "ipython3",
   "version": "3.8.8"
  }
 },
 "nbformat": 4,
 "nbformat_minor": 5
}
